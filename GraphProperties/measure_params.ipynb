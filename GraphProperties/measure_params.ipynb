{
 "cells": [
  {
   "cell_type": "code",
   "execution_count": 1,
   "metadata": {},
   "outputs": [],
   "source": [
    "import numpy as np\n",
    "import powerlaw\n",
    "\n",
    "from load_graph import *"
   ]
  },
  {
   "cell_type": "code",
   "execution_count": 2,
   "metadata": {},
   "outputs": [],
   "source": [
    "def measure_params(g, coms, min_degree=5, min_com_size=10):\n",
    "    \"\"\"\n",
    "    Measure parameters of a graph with known communities.\n",
    "\n",
    "    input:\n",
    "    - g: the graph (igraph). Each vertex must have it's a set of it's communities stored in a 'comms' attribute.\n",
    "    - coms: a list of lists containing the vertex id's in each community\n",
    "    - min_degree  5: override the minimum degree parameter if the actual min degree is too small.\n",
    "        This value will also be used for computeing the degree powerlaw exponent.\n",
    "    - min_com_size  10: override the minimum community size parameter if the actual min com size is too small.\n",
    "        This value will also be used for computeing the community size powerlaw exponent.\n",
    "\n",
    "    returns:\n",
    "    - params: a dictionary with the measured parameters\n",
    "    \"\"\"\n",
    "    params = dict()\n",
    "\n",
    "    n_coms = np.array([len(comms) for comms in g.vs[\"comms\"]])\n",
    "    is_outlier = n_coms == 0\n",
    "    params[\"n\"] = int(g.vcount())\n",
    "    params[\"n_out\"] = int(np.sum(is_outlier))\n",
    "\n",
    "    params[\"eta\"] = float(np.mean(n_coms))\n",
    "\n",
    "    degrees = np.array(g.degree())\n",
    "    d_min = np.maximum(min_degree, np.min(degrees))\n",
    "    params[\"d_min\"] = d_min\n",
    "    params[\"d_max\"] = int(np.max(degrees))\n",
    "    params[\"t1\"] = powerlaw.Fit(degrees, discrete=True, verbose=False, xmin=d_min).power_law.alpha\n",
    "\n",
    "    com_sizes = np.array([len(com) for com in coms])\n",
    "    c_min = np.maximum(min_com_size, np.min(com_sizes))\n",
    "    params[\"c_min\"] = c_min\n",
    "    params[\"c_max\"] = int(np.max(com_sizes))\n",
    "    params[\"t2\"] = powerlaw.Fit(com_sizes, discrete=True, verbose=False, xmin=c_min).power_law.alpha\n",
    "\n",
    "    xi = sum([len(g.vs[e.source][\"comms\"].intersection(g.vs[e.target][\"comms\"]))==0 for e in g.es]) / g.ecount()\n",
    "    params[\"xi\"] = xi\n",
    "\n",
    "    rho = np.corrcoef(degrees, [len(c) for c in g.vs[\"comms\"]])[0, 1]\n",
    "    params[\"rho\"] = rho\n",
    "\n",
    "    return params"
   ]
  },
  {
   "cell_type": "code",
   "execution_count": 3,
   "metadata": {},
   "outputs": [
    {
     "name": "stdout",
     "output_type": "stream",
     "text": [
      "Youtube Params\n"
     ]
    },
    {
     "data": {
      "text/plain": [
       "{'n': 52675,\n",
       " 'n_out': 0,\n",
       " 'eta': 2.4528144280968203,\n",
       " 'd_min': 5,\n",
       " 'd_max': 1928,\n",
       " 't1': 1.8702187087097446,\n",
       " 'c_min': 10,\n",
       " 'c_max': 3001,\n",
       " 't2': 2.130965769664415,\n",
       " 'xi': 0.5928066048845747,\n",
       " 'rho': 0.3746343169285614}"
      ]
     },
     "execution_count": 3,
     "metadata": {},
     "output_type": "execute_result"
    }
   ],
   "source": [
    "print(\"Youtube Params\")\n",
    "graph_path = \"data/com-youtube.ungraph.txt\"\n",
    "com_path = \"data/com-youtube.all.cmty.txt\"\n",
    "drop_outliers=True\n",
    "\n",
    "g, coms = load_snap(graph_path, com_path, drop_outliers)\n",
    "measure_params(g, coms)"
   ]
  },
  {
   "cell_type": "code",
   "execution_count": 4,
   "metadata": {},
   "outputs": [
    {
     "name": "stdout",
     "output_type": "stream",
     "text": [
      "DBLP Params\n"
     ]
    },
    {
     "data": {
      "text/plain": [
       "{'n': 317080,\n",
       " 'n_out': 56082,\n",
       " 'eta': 2.2701526428661536,\n",
       " 'd_min': 5,\n",
       " 'd_max': 343,\n",
       " 't1': 2.2971382289501836,\n",
       " 'c_min': 10,\n",
       " 'c_max': 7556,\n",
       " 't2': 1.8783557273672902,\n",
       " 'xi': 0.10887399808546813,\n",
       " 'rho': 0.7562357362284843}"
      ]
     },
     "execution_count": 4,
     "metadata": {},
     "output_type": "execute_result"
    }
   ],
   "source": [
    "print(\"DBLP Params\")\n",
    "graph_path = \"data/com-dblp.ungraph.txt\"\n",
    "com_path = \"data/com-dblp.all.cmty.txt\"\n",
    "drop_outliers=False\n",
    "\n",
    "g, coms = load_snap(graph_path, com_path, drop_outliers)\n",
    "measure_params(g, coms)"
   ]
  },
  {
   "cell_type": "code",
   "execution_count": 5,
   "metadata": {},
   "outputs": [
    {
     "name": "stdout",
     "output_type": "stream",
     "text": [
      "Amazon Params\n"
     ]
    },
    {
     "data": {
      "text/plain": [
       "{'n': 334863,\n",
       " 'n_out': 17669,\n",
       " 'eta': 6.78349952069951,\n",
       " 'd_min': 5,\n",
       " 'd_max': 549,\n",
       " 't1': 3.0417593798289118,\n",
       " 'c_min': 10,\n",
       " 'c_max': 53551,\n",
       " 't2': 2.0276132496679242,\n",
       " 'xi': 0.11169050548078512,\n",
       " 'rho': 0.21998876088291677}"
      ]
     },
     "execution_count": 5,
     "metadata": {},
     "output_type": "execute_result"
    }
   ],
   "source": [
    "print(\"Amazon Params\")\n",
    "graph_path = \"data/com-amazon.ungraph.txt\"\n",
    "com_path = \"data/com-amazon.all.dedup.cmty.txt\"\n",
    "drop_outliers=False\n",
    "\n",
    "g, coms = load_snap(graph_path, com_path, drop_outliers)\n",
    "measure_params(g, coms)"
   ]
  },
  {
   "cell_type": "code",
   "execution_count": null,
   "metadata": {},
   "outputs": [],
   "source": []
  }
 ],
 "metadata": {
  "kernelspec": {
   "display_name": "betastar",
   "language": "python",
   "name": "python3"
  },
  "language_info": {
   "codemirror_mode": {
    "name": "ipython",
    "version": 3
   },
   "file_extension": ".py",
   "mimetype": "text/x-python",
   "name": "python",
   "nbconvert_exporter": "python",
   "pygments_lexer": "ipython3",
   "version": "3.11.0"
  }
 },
 "nbformat": 4,
 "nbformat_minor": 2
}
