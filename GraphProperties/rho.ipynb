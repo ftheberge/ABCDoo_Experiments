{
 "cells": [
  {
   "cell_type": "code",
   "execution_count": 1,
   "metadata": {},
   "outputs": [],
   "source": [
    "import numpy as np\n",
    "\n",
    "from load_graph import *"
   ]
  },
  {
   "cell_type": "code",
   "execution_count": 2,
   "metadata": {},
   "outputs": [
    {
     "name": "stdout",
     "output_type": "stream",
     "text": [
      "Rho of DBLP is 0.7562357362284843\n",
      "Rho of ABCDOO D=2 is 0.4257694701837854\n",
      "Rho of ABCDOO D=8 is 0.5575548316170506\n",
      "Rho of ABCDOO D=64 is 0.6766342543692754\n"
     ]
    }
   ],
   "source": [
    "## DBLP graph\n",
    "real, _ = load_snap(\"data/com-dblp.ungraph.txt\", \"data/com-dblp.all.cmty.txt\")\n",
    "abcdoo_d2, _ = load_abcdoo(\"data/abcdoo_dblp_d2_edge.dat\", \"data/abcdoo_dblp_d2_com.dat\")\n",
    "abcdoo_d8, _ = load_abcdoo(\"data/abcdoo_dblp_d8_edge.dat\",  \"data/abcdoo_dblp_d8_com.dat\")\n",
    "abcdoo_d64, _ = load_abcdoo(\"data/abcdoo_dblp_d64_edge.dat\", \"data/abcdoo_dblp_d64_com.dat\")\n",
    "\n",
    "gs = [real, abcdoo_d2, abcdoo_d8, abcdoo_d64]\n",
    "names = [\"DBLP\", \"ABCDOO D=2\", \"ABCDOO D=8\", \"ABCDOO D=64\"]\n",
    "\n",
    "for g, name in zip(gs, names):\n",
    "    coms_per_node = np.array([len(c) for c in g.vs[\"comms\"]])\n",
    "    degrees = np.array(g.degree())\n",
    "    print(f\"Rho of {name} is {np.corrcoef(degrees, coms_per_node)[0, 1]}\")"
   ]
  },
  {
   "cell_type": "code",
   "execution_count": 3,
   "metadata": {},
   "outputs": [
    {
     "name": "stdout",
     "output_type": "stream",
     "text": [
      "Rho of Amazon is 0.21998876088291677\n",
      "Rho of ABCDOO D=2 is 0.19995132683219913\n",
      "Rho of ABCDOO D=8 is 0.1945769636061528\n",
      "Rho of ABCDOO D=64 is 0.2048165967552403\n"
     ]
    }
   ],
   "source": [
    "## Amazon graph\n",
    "real, _ = load_snap(\"data/com-amazon.ungraph.txt\", \"data/com-amazon.all.dedup.cmty.txt\")\n",
    "abcdoo_d2, _ = load_abcdoo(\"data/abcdoo_amazon_d2_edge.dat\", \"data/abcdoo_amazon_d2_com.dat\")\n",
    "abcdoo_d8, _ = load_abcdoo(\"data/abcdoo_amazon_d8_edge.dat\",  \"data/abcdoo_amazon_d8_com.dat\")\n",
    "abcdoo_d64, _ = load_abcdoo(\"data/abcdoo_amazon_d64_edge.dat\", \"data/abcdoo_amazon_d64_com.dat\")\n",
    "\n",
    "gs = [real, abcdoo_d2, abcdoo_d8, abcdoo_d64]\n",
    "names = [\"Amazon\", \"ABCDOO D=2\", \"ABCDOO D=8\", \"ABCDOO D=64\"]\n",
    "\n",
    "for g, name in zip(gs, names):\n",
    "    coms_per_node = np.array([len(c) for c in g.vs[\"comms\"]])\n",
    "    degrees = np.array(g.degree())\n",
    "    print(f\"Rho of {name} is {np.corrcoef(degrees, coms_per_node)[0, 1]}\")"
   ]
  },
  {
   "cell_type": "code",
   "execution_count": 4,
   "metadata": {},
   "outputs": [
    {
     "name": "stdout",
     "output_type": "stream",
     "text": [
      "Rho of Youtube is 0.3746343169285614\n",
      "Rho of ABCDOO D=2 is 0.36908073610138403\n",
      "Rho of ABCDOO D=8 is 0.36021113997010373\n",
      "Rho of ABCDOO D=64 is 0.3785918830491766\n"
     ]
    }
   ],
   "source": [
    "## Youtube graph\n",
    "real, _ = load_snap(\"data/com-youtube.ungraph.txt\", \"data/com-youtube.all.cmty.txt\", drop_outliers=True)\n",
    "abcdoo_d2, _ = load_abcdoo(\"data/abcdoo_youtube_d2_edge.dat\", \"data/abcdoo_youtube_d2_com.dat\", has_outliers=False)\n",
    "abcdoo_d8, _ = load_abcdoo(\"data/abcdoo_youtube_d8_edge.dat\",  \"data/abcdoo_youtube_d8_com.dat\", has_outliers=False)\n",
    "abcdoo_d64, _ = load_abcdoo(\"data/abcdoo_youtube_d64_edge.dat\", \"data/abcdoo_youtube_d64_com.dat\", has_outliers=False)\n",
    "\n",
    "gs = [real, abcdoo_d2, abcdoo_d8, abcdoo_d64]\n",
    "names = [\"Youtube\", \"ABCDOO D=2\", \"ABCDOO D=8\", \"ABCDOO D=64\"]\n",
    "\n",
    "for g, name in zip(gs, names):\n",
    "    coms_per_node = np.array([len(c) for c in g.vs[\"comms\"]])\n",
    "    degrees = np.array(g.degree())\n",
    "    print(f\"Rho of {name} is {np.corrcoef(degrees, coms_per_node)[0, 1]}\")"
   ]
  }
 ],
 "metadata": {
  "kernelspec": {
   "display_name": "betastar",
   "language": "python",
   "name": "python3"
  },
  "language_info": {
   "codemirror_mode": {
    "name": "ipython",
    "version": 3
   },
   "file_extension": ".py",
   "mimetype": "text/x-python",
   "name": "python",
   "nbconvert_exporter": "python",
   "pygments_lexer": "ipython3",
   "version": "3.12.10"
  }
 },
 "nbformat": 4,
 "nbformat_minor": 2
}
