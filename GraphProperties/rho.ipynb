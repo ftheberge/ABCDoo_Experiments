{
 "cells": [
  {
   "cell_type": "code",
   "execution_count": 1,
   "metadata": {},
   "outputs": [],
   "source": [
    "import numpy as np\n",
    "\n",
    "from load_graph import *"
   ]
  },
  {
   "cell_type": "code",
   "execution_count": 2,
   "metadata": {},
   "outputs": [
    {
     "name": "stdout",
     "output_type": "stream",
     "text": [
      "Rho of DBLP is 0.7562357362284843\n",
      "Rho of ABCDOO d=2 is 0.442916384773455\n",
      "Rho of ABCDOO d=5 is 0.419554180269185\n",
      "Rho of ABCDOO d=10 is 0.6006178997431217\n"
     ]
    }
   ],
   "source": [
    "## DBLP graph\n",
    "real, _ = load_snap(\"data/com-dblp.ungraph.txt\", \"data/com-dblp.all.cmty.txt\")\n",
    "abcdoo_d2, _ = load_abcdoo(\"data/abcdoo_dblp_d2_edge.dat\", \"data/abcdoo_dblp_d2_com.dat\")\n",
    "abcdoo_d5, _ = load_abcdoo(\"data/abcdoo_dblp_d5_edge.dat\",  \"data/abcdoo_dblp_d5_com.dat\")\n",
    "abcdoo_d10, _ = load_abcdoo(\"data/abcdoo_dblp_d10_edge.dat\", \"data/abcdoo_dblp_d10_com.dat\")\n",
    "\n",
    "gs = [real, abcdoo_d2, abcdoo_d5, abcdoo_d10]\n",
    "names = [\"DBLP\", \"ABCDOO d=2\", \"ABCDOO d=5\", \"ABCDOO d=10\"]\n",
    "\n",
    "for g, name in zip(gs, names):\n",
    "    coms_per_node = np.array([len(c) for c in g.vs[\"comms\"]])\n",
    "    degrees = np.array(g.degree())\n",
    "    print(f\"Rho of {name} is {np.corrcoef(degrees, coms_per_node)[0, 1]}\")"
   ]
  },
  {
   "cell_type": "code",
   "execution_count": 3,
   "metadata": {},
   "outputs": [
    {
     "name": "stdout",
     "output_type": "stream",
     "text": [
      "Rho of Amazon is 0.21998876088291677\n",
      "Rho of ABCDOO d=2 is 0.19642611023349518\n",
      "Rho of ABCDOO d=5 is 0.1914841071955968\n",
      "Rho of ABCDOO d=10 is 0.20300462436809125\n"
     ]
    }
   ],
   "source": [
    "## Amazon graph\n",
    "real, _ = load_snap(\"data/com-amazon.ungraph.txt\", \"data/com-amazon.all.dedup.cmty.txt\")\n",
    "abcdoo_d2, _ = load_abcdoo(\"data/abcdoo_amazon_d2_edge.dat\", \"data/abcdoo_amazon_d2_com.dat\")\n",
    "abcdoo_d5, _ = load_abcdoo(\"data/abcdoo_amazon_d5_edge.dat\",  \"data/abcdoo_amazon_d5_com.dat\")\n",
    "abcdoo_d10, _ = load_abcdoo(\"data/abcdoo_amazon_d10_edge.dat\", \"data/abcdoo_amazon_d10_com.dat\")\n",
    "\n",
    "gs = [real, abcdoo_d2, abcdoo_d5, abcdoo_d10]\n",
    "names = [\"Amazon\", \"ABCDOO d=2\", \"ABCDOO d=5\", \"ABCDOO d=10\"]\n",
    "\n",
    "for g, name in zip(gs, names):\n",
    "    coms_per_node = np.array([len(c) for c in g.vs[\"comms\"]])\n",
    "    degrees = np.array(g.degree())\n",
    "    print(f\"Rho of {name} is {np.corrcoef(degrees, coms_per_node)[0, 1]}\")"
   ]
  },
  {
   "cell_type": "code",
   "execution_count": 4,
   "metadata": {},
   "outputs": [
    {
     "name": "stdout",
     "output_type": "stream",
     "text": [
      "Rho of Youtube is 0.3746343169285614\n",
      "Rho of ABCDOO d=2 is 0.36908073610138403\n",
      "Rho of ABCDOO d=5 is 0.36730487281927643\n",
      "Rho of ABCDOO d=10 is 0.36656785236701156\n"
     ]
    }
   ],
   "source": [
    "## Youtube graph\n",
    "real, _ = load_snap(\"data/com-youtube.ungraph.txt\", \"data/com-youtube.all.cmty.txt\", drop_outliers=True)\n",
    "abcdoo_d2, _ = load_abcdoo(\"data/abcdoo_youtube_d2_edge.dat\", \"data/abcdoo_youtube_d2_com.dat\", has_outliers=False)\n",
    "abcdoo_d5, _ = load_abcdoo(\"data/abcdoo_youtube_d5_edge.dat\",  \"data/abcdoo_youtube_d5_com.dat\", has_outliers=False)\n",
    "abcdoo_d10, _ = load_abcdoo(\"data/abcdoo_youtube_d10_edge.dat\", \"data/abcdoo_youtube_d10_com.dat\", has_outliers=False)\n",
    "\n",
    "gs = [real, abcdoo_d2, abcdoo_d5, abcdoo_d10]\n",
    "names = [\"Youtube\", \"ABCDOO d=2\", \"ABCDOO d=5\", \"ABCDOO d=10\"]\n",
    "\n",
    "for g, name in zip(gs, names):\n",
    "    coms_per_node = np.array([len(c) for c in g.vs[\"comms\"]])\n",
    "    degrees = np.array(g.degree())\n",
    "    print(f\"Rho of {name} is {np.corrcoef(degrees, coms_per_node)[0, 1]}\")"
   ]
  }
 ],
 "metadata": {
  "kernelspec": {
   "display_name": "betastar",
   "language": "python",
   "name": "python3"
  },
  "language_info": {
   "codemirror_mode": {
    "name": "ipython",
    "version": 3
   },
   "file_extension": ".py",
   "mimetype": "text/x-python",
   "name": "python",
   "nbconvert_exporter": "python",
   "pygments_lexer": "ipython3",
   "version": "3.11.0"
  }
 },
 "nbformat": 4,
 "nbformat_minor": 2
}
